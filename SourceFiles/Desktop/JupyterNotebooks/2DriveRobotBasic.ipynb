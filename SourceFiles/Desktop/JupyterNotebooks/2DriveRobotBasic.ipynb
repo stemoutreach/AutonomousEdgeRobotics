{
 "cells": [
  {
   "cell_type": "code",
   "execution_count": null,
   "id": "49de2fab-16a6-4877-aa49-dda342e0e862",
   "metadata": {},
   "outputs": [],
   "source": [
    "import sys\n",
    "sys.path.append('/home/pi/MasterPi/')\n",
    "import time\n",
    "import HiwonderSDK.Board as Board"
   ]
  },
  {
   "cell_type": "code",
   "execution_count": null,
   "id": "68de3478-3c05-4ee2-967a-cffb41f675c4",
   "metadata": {},
   "outputs": [],
   "source": [
    "def Test():\n",
    "    Board.setMotor(1, 30) #front left\n",
    "    time.sleep(1)\n",
    "    Board.setMotor(1, 0) #front left\n",
    "    Board.setMotor(2, 30) #front right\n",
    "    time.sleep(1)\n",
    "    Board.setMotor(2, 0) #front right\n",
    "    Board.setMotor(3, 30) #back left\n",
    "    time.sleep(1)\n",
    "    Board.setMotor(3, 0) #back left\n",
    "    Board.setMotor(4, 30) #back right\n",
    "    time.sleep(1)\n",
    "    Board.setMotor(4, 0) #back right\n",
    "\n",
    "def MotorStop(): # stop all motors \n",
    "    Board.setMotor(1, 0) \n",
    "    Board.setMotor(2, 0)\n",
    "    Board.setMotor(3, 0)\n",
    "    Board.setMotor(4, 0)\n",
    "\n",
    "def Forward(speed):\n",
    "    Board.setMotor(1, speed) \n",
    "    Board.setMotor(2, speed)\n",
    "    Board.setMotor(3, speed)\n",
    "    Board.setMotor(4, speed)\n",
    "\n",
    "def Reverse(speed):\n",
    "    Board.setMotor(1, -speed) \n",
    "    Board.setMotor(2, -speed)\n",
    "    Board.setMotor(3, -speed)\n",
    "    Board.setMotor(4, -speed)\n",
    "\n",
    "def TurnRight(speed):\n",
    "    Board.setMotor(1, speed) \n",
    "    Board.setMotor(2, -speed)\n",
    "    Board.setMotor(3, speed)\n",
    "    Board.setMotor(4, -speed)\n",
    "\n",
    "def TurnLeft(speed):\n",
    "    Board.setMotor(1, -speed) \n",
    "    Board.setMotor(2, speed)\n",
    "    Board.setMotor(3, -speed)\n",
    "    Board.setMotor(4, speed)\n",
    "\n",
    "def StrafeRight(speed):\n",
    "    Board.setMotor(1, speed) \n",
    "    Board.setMotor(2, -speed)\n",
    "    Board.setMotor(3, -speed)\n",
    "    Board.setMotor(4, speed)\n",
    "\n",
    "def StrafeLeft(speed):\n",
    "    Board.setMotor(1, -speed) \n",
    "    Board.setMotor(2, speed)\n",
    "    Board.setMotor(3, speed)\n",
    "    Board.setMotor(4, -speed)\n"
   ]
  },
  {
   "cell_type": "code",
   "execution_count": null,
   "id": "fae38da7-97ac-4710-a1ad-c214646efae7",
   "metadata": {},
   "outputs": [],
   "source": [
    "Test()"
   ]
  },
  {
   "cell_type": "code",
   "execution_count": null,
   "id": "20e82ba1-6582-46ab-89e9-5ff40d13c13b",
   "metadata": {},
   "outputs": [],
   "source": [
    "Forward(30)\n",
    "time.sleep(3)\n",
    "MotorStop()  # stop all motors"
   ]
  },
  {
   "cell_type": "code",
   "execution_count": null,
   "id": "8ffb1bbf-bebe-41f2-ba72-277847264804",
   "metadata": {},
   "outputs": [],
   "source": [
    "Reverse(30)\n",
    "time.sleep(3)\n",
    "MotorStop()  # stop all motors"
   ]
  },
  {
   "cell_type": "code",
   "execution_count": null,
   "id": "e08d9d03-0651-404e-b546-72682c4f1dc6",
   "metadata": {},
   "outputs": [],
   "source": [
    "TurnRight(30)\n",
    "time.sleep(3)\n",
    "MotorStop()  # stop all motors"
   ]
  },
  {
   "cell_type": "code",
   "execution_count": null,
   "id": "5195ce71-cec1-4bee-9c23-912eacfad9a3",
   "metadata": {},
   "outputs": [],
   "source": [
    "TurnLeft(30)\n",
    "time.sleep(3)\n",
    "MotorStop()  # stop all motors"
   ]
  },
  {
   "cell_type": "code",
   "execution_count": null,
   "id": "d8598c64-1a66-45f5-b0e8-8a2f1bfea13d",
   "metadata": {},
   "outputs": [],
   "source": [
    "StrafeRight(30)\n",
    "time.sleep(3)\n",
    "MotorStop()  # stop all motors"
   ]
  },
  {
   "cell_type": "code",
   "execution_count": null,
   "id": "ad78ff62-d7d6-4010-b47b-ac47ff3e9661",
   "metadata": {},
   "outputs": [],
   "source": [
    "StrafeLeft(30)\n",
    "time.sleep(3)\n",
    "MotorStop()  # stop all motors"
   ]
  },
  {
   "cell_type": "code",
   "execution_count": null,
   "id": "b6b24d9b-b5f8-4990-bcab-78095a1a9013",
   "metadata": {},
   "outputs": [],
   "source": [
    "MotorStop()  # stop all motors\n",
    "time.sleep(1)     "
   ]
  }
 ],
 "metadata": {
  "kernelspec": {
   "display_name": "Python 3 (ipykernel)",
   "language": "python",
   "name": "python3"
  },
  "language_info": {
   "codemirror_mode": {
    "name": "ipython",
    "version": 3
   },
   "file_extension": ".py",
   "mimetype": "text/x-python",
   "name": "python",
   "nbconvert_exporter": "python",
   "pygments_lexer": "ipython3",
   "version": "3.11.2"
  }
 },
 "nbformat": 4,
 "nbformat_minor": 5
}
