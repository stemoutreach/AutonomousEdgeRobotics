{
 "cells": [
  {
   "cell_type": "code",
   "execution_count": null,
   "id": "97b1ff7a-62d5-462e-a80a-dfe5761e2770",
   "metadata": {},
   "outputs": [],
   "source": [
    "import sys\n",
    "sys.path.append('/home/pi/MasterPi/')\n",
    "import time\n",
    "import HiwonderSDK.Board as Board\n"
   ]
  },
  {
   "cell_type": "code",
   "execution_count": null,
   "id": "477f0d03-0287-4499-9b69-b1ca82ee2300",
   "metadata": {},
   "outputs": [],
   "source": [
    "#Turn off all lights first\n",
    "Board.RGB.setPixelColor(0, Board.PixelColor(0, 0, 0))\n",
    "Board.RGB.setPixelColor(1, Board.PixelColor(0, 0, 0))\n",
    "Board.RGB.show()\n",
    "\n",
    "#set two lights to red\n",
    "Board.RGB.setPixelColor(0, Board.PixelColor(255, 0, 0))\n",
    "Board.RGB.setPixelColor(1, Board.PixelColor(255, 0, 0))\n",
    "Board.RGB.show()\n",
    "time.sleep(1)\n",
    "  \n",
    "#set two lights to green \n",
    "Board.RGB.setPixelColor(0, Board.PixelColor(0, 255, 0))\n",
    "Board.RGB.setPixelColor(1, Board.PixelColor(0, 255, 0))\n",
    "Board.RGB.show()\n",
    "time.sleep(1)\n",
    "    \n",
    "#set two lights to blue\n",
    "Board.RGB.setPixelColor(0, Board.PixelColor(0, 0, 255))\n",
    "Board.RGB.setPixelColor(1, Board.PixelColor(0, 0, 255))\n",
    "Board.RGB.show()\n",
    "time.sleep(1)\n",
    "    \n",
    "#set two lights to yellow\n",
    "Board.RGB.setPixelColor(0, Board.PixelColor(255, 255, 0))\n",
    "Board.RGB.setPixelColor(1, Board.PixelColor(255, 255, 0))\n",
    "Board.RGB.show()\n",
    "time.sleep(1)\n",
    "\n",
    "#Turn off all lights \n",
    "Board.RGB.setPixelColor(0, Board.PixelColor(0, 0, 0))\n",
    "Board.RGB.setPixelColor(1, Board.PixelColor(0, 0, 0))\n",
    "Board.RGB.show()"
   ]
  }
 ],
 "metadata": {
  "kernelspec": {
   "display_name": "Python 3 (ipykernel)",
   "language": "python",
   "name": "python3"
  },
  "language_info": {
   "codemirror_mode": {
    "name": "ipython",
    "version": 3
   },
   "file_extension": ".py",
   "mimetype": "text/x-python",
   "name": "python",
   "nbconvert_exporter": "python",
   "pygments_lexer": "ipython3",
   "version": "3.11.2"
  }
 },
 "nbformat": 4,
 "nbformat_minor": 5
}
