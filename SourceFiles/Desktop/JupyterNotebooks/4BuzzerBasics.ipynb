{
 "cells": [
  {
   "cell_type": "code",
   "execution_count": null,
   "id": "5572393c-beae-469d-8526-f52ba41a2aad",
   "metadata": {},
   "outputs": [],
   "source": [
    "import sys\n",
    "sys.path.append('/home/pi/MasterPi/')\n",
    "import time\n",
    "import HiwonderSDK.Board as Board"
   ]
  },
  {
   "cell_type": "code",
   "execution_count": null,
   "id": "5933fbe0-7819-4817-93c4-7695e6a1a814",
   "metadata": {},
   "outputs": [],
   "source": [
    "Board.setBuzzer(0) # close \n",
    "\n",
    "Board.setBuzzer(1) # open\n",
    "time.sleep(0.1) # delay\n",
    "Board.setBuzzer(0) #close \n",
    "\n",
    "time.sleep(1) # delay\n",
    "\n",
    "Board.setBuzzer(1)\n",
    "time.sleep(0.5)\n",
    "Board.setBuzzer(0)"
   ]
  }
 ],
 "metadata": {
  "kernelspec": {
   "display_name": "Python 3 (ipykernel)",
   "language": "python",
   "name": "python3"
  },
  "language_info": {
   "codemirror_mode": {
    "name": "ipython",
    "version": 3
   },
   "file_extension": ".py",
   "mimetype": "text/x-python",
   "name": "python",
   "nbconvert_exporter": "python",
   "pygments_lexer": "ipython3",
   "version": "3.11.2"
  }
 },
 "nbformat": 4,
 "nbformat_minor": 5
}
