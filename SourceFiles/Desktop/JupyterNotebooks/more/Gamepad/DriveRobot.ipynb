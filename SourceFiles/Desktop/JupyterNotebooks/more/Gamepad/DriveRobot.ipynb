{
 "cells": [
  {
   "cell_type": "code",
   "execution_count": 2,
   "id": "d9567877-83bf-43ac-b772-f3f237c872e0",
   "metadata": {},
   "outputs": [],
   "source": [
    "import sys\n",
    "sys.path.append('/home/pi/MasterPi/')\n",
    "import time\n",
    "import signal\n",
    "import HiwonderSDK.mecanum as mecanum\n",
    "import ipywidgets.widgets as widgets\n",
    "from IPython.display import display"
   ]
  },
  {
   "cell_type": "code",
   "execution_count": 3,
   "id": "051246e9-b1f8-466d-b23e-7024f3b9cd72",
   "metadata": {},
   "outputs": [],
   "source": [
    "chassis = mecanum.MecanumChassis()"
   ]
  },
  {
   "cell_type": "code",
   "execution_count": 4,
   "id": "04ea4c46-d1ee-4dee-ba7c-15d9693e1b6d",
   "metadata": {},
   "outputs": [],
   "source": [
    "chassis.set_velocity(0,0,0)"
   ]
  },
  {
   "cell_type": "code",
   "execution_count": 5,
   "id": "6bfc34a5-6390-4b51-ae3f-69510bacf001",
   "metadata": {},
   "outputs": [
    {
     "data": {
      "application/vnd.jupyter.widget-view+json": {
       "model_id": "5e265647030e450faa482ce360e9fefe",
       "version_major": 2,
       "version_minor": 0
      },
      "text/plain": [
       "VBox(children=(HBox(children=(Button(description='left Turn', layout=Layout(align_self='center', height='80px'…"
      ]
     },
     "metadata": {},
     "output_type": "display_data"
    }
   ],
   "source": [
    "# create buttons\n",
    "button_layout = widgets.Layout(width='100px', height='80px', align_self='center')\n",
    "stop_button = widgets.Button(description='stop', button_style='danger', layout=button_layout)\n",
    "forward_button = widgets.Button(description='forward', layout=button_layout)\n",
    "backward_button = widgets.Button(description='backward', layout=button_layout)\n",
    "left_button = widgets.Button(description='left', layout=button_layout)\n",
    "leftturn_button = widgets.Button(description='left Turn', layout=button_layout)\n",
    "right_button = widgets.Button(description='right', layout=button_layout)\n",
    "rightturn_button = widgets.Button(description='right turn', layout=button_layout)\n",
    "\n",
    "# display buttons\n",
    "middle_box = widgets.HBox([left_button, stop_button, right_button], layout=widgets.Layout(align_self='center'))\n",
    "left_box = widgets.HBox([leftturn_button, forward_button, rightturn_button], layout=widgets.Layout(align_self='center'))\n",
    "controls_box = widgets.VBox([left_box, middle_box, backward_button])\n",
    "display(controls_box)"
   ]
  },
  {
   "cell_type": "code",
   "execution_count": 6,
   "id": "f15d5e99-0e5b-44bf-b77d-befbee5e007d",
   "metadata": {},
   "outputs": [],
   "source": [
    "def stop(change):\n",
    "    chassis.set_velocity(0,0,0)\n",
    "    \n",
    "def step_forward(change):\n",
    "    chassis.set_velocity(50,90,0)\n",
    "\n",
    "def step_backward(change):\n",
    "    chassis.set_velocity(50,270,0)\n",
    "\n",
    "def step_left(change):\n",
    "    chassis.set_velocity(50,180,0)\n",
    "\n",
    "def step_right(change):\n",
    "    chassis.set_velocity(50,0,0)\n",
    "\n",
    "def step_leftturn(change):\n",
    "    chassis.set_velocity(0,90,-0.3)# rotate counterclockwise\n",
    "\n",
    "def step_rightturn(change):\n",
    "    chassis.set_velocity(0,90,0.3)# rotate clockwise\n"
   ]
  },
  {
   "cell_type": "code",
   "execution_count": 7,
   "id": "a9d8f889-d5e0-4520-8bb6-1650a8463087",
   "metadata": {},
   "outputs": [],
   "source": [
    "# link buttons to actions\n",
    "stop_button.on_click(stop)\n",
    "forward_button.on_click(step_forward)\n",
    "backward_button.on_click(step_backward)\n",
    "left_button.on_click(step_left)\n",
    "right_button.on_click(step_right)\n",
    "leftturn_button.on_click(step_leftturn)\n",
    "rightturn_button.on_click(step_rightturn)"
   ]
  },
  {
   "cell_type": "code",
   "execution_count": 8,
   "id": "0dd091b2-0387-43ad-a256-eea10cef8336",
   "metadata": {},
   "outputs": [],
   "source": [
    "import threading\n",
    "import yaml_handle\n",
    "from ArmIK.Transform import *\n",
    "from ArmIK.ArmMoveIK import *\n",
    "import HiwonderSDK.Board as Board"
   ]
  },
  {
   "cell_type": "code",
   "execution_count": 9,
   "id": "154c671e-269d-48bf-9e74-391788556579",
   "metadata": {},
   "outputs": [],
   "source": [
    "AK = ArmIK()\n",
    "global lab_data, servo_data\n",
    "servo1 = 1500\n",
    "def initMove():\n",
    "    Board.setPWMServoPulse(1, servo1, 800)\n",
    "    AK.setPitchRangeMoving((0, 8, 10), -90, -90, 0, 1500)\n"
   ]
  },
  {
   "cell_type": "code",
   "execution_count": 10,
   "id": "896d303c-6b1f-4246-80cb-e8e0631c4867",
   "metadata": {},
   "outputs": [],
   "source": [
    "rect = None\n",
    "size = (640, 480)\n",
    "rotation_angle = 0\n",
    "unreachable = False \n",
    "world_X, world_Y = 0, 0\n",
    "global rect\n",
    "global _stop\n",
    "global get_roi\n",
    "global unreachable\n",
    "global __isRunning\n",
    "global detect_color\n",
    "global start_pick_up\n",
    "global rotation_angle\n",
    "global world_X, world_Y\n",
    "\n",
    "#placement coordinate\n",
    "coordinate = {\n",
    "    'red':   (-15, 14, 2),\n",
    "    'green': (-18, 9,  3),\n",
    "    'blue':  (-18, 0, 2),\n",
    "    'capture': (0, 16.5, 2)\n",
    "}\n"
   ]
  },
  {
   "cell_type": "code",
   "execution_count": 22,
   "id": "f6a77622-57d6-4bf8-9b70-6b578668aa88",
   "metadata": {},
   "outputs": [],
   "source": [
    "from ipywidgets import interact, interactive, fixed, interact_manual\n",
    "import ipywidgets as widgets"
   ]
  },
  {
   "cell_type": "code",
   "execution_count": 25,
   "id": "3e18da98-1848-4f03-a361-581a19347d63",
   "metadata": {},
   "outputs": [],
   "source": [
    "def f(x):\n",
    "    return x"
   ]
  },
  {
   "cell_type": "code",
   "execution_count": 24,
   "id": "91a0459e-1b04-4d10-b373-0bdefa1cc5ef",
   "metadata": {},
   "outputs": [
    {
     "data": {
      "application/vnd.jupyter.widget-view+json": {
       "model_id": "a4f09212a6ea4698895ded96e4f7a811",
       "version_major": 2,
       "version_minor": 0
      },
      "text/plain": [
       "interactive(children=(IntSlider(value=10, description='x', max=30, min=-10), Output()), _dom_classes=('widget-…"
      ]
     },
     "metadata": {},
     "output_type": "display_data"
    }
   ],
   "source": [
    "interact(f, x=10);"
   ]
  },
  {
   "cell_type": "code",
   "execution_count": 10,
   "id": "c92cf90c-b9ab-44fa-92a5-df565a325870",
   "metadata": {},
   "outputs": [],
   "source": [
    "detect_color = 'green'"
   ]
  },
  {
   "cell_type": "code",
   "execution_count": 12,
   "id": "0b35ceda-81af-4cee-a6c2-540483ccbd9f",
   "metadata": {},
   "outputs": [],
   "source": [
    "\n",
    "AK.setPitchRangeMoving((0, 6, 18), 0,-90, 90, 1500) # lift up robotic arm \n",
    "time.sleep(1.5)\n",
    "Board.setPWMServoPulse(1, 2000, 500) # the gripper opens\n",
    "time.sleep(1.5)\n",
    "Board.setPWMServoPulse(1, 1500, 500) # the gripper closes\n",
    "time.sleep(1.5)\n",
    "if detect_color == 'red':       # The robotic arm rotates to the corresponding angle according to the detected color.\n",
    "    Board.setPWMServoPulse(6, 1900, 500)\n",
    "    time.sleep(0.5)\n",
    "elif detect_color == 'green':\n",
    "    Board.setPWMServoPulse(6, 2100, 800)\n",
    "    time.sleep(0.8)\n",
    "elif detect_color == 'blue':\n",
    "    Board.setPWMServoPulse(6, 2500, 1500)\n",
    "    time.sleep(1.5)\n",
    "result = AK.setPitchRangeMoving((coordinate[detect_color][0], coordinate[detect_color][1], 8), -90, -90, 0) # Move to above the coordinates of the corresponding color\n",
    "if result == False:\n",
    "    unreachable = True\n",
    "else:\n",
    "    unreachable = False\n",
    "    time.sleep(result[2]/1000) #If it can get to the specific posiiton, the running time is obtained.\n",
    "AK.setPitchRangeMoving((coordinate[detect_color]), -90, -90, 0, 500)  # Place at the coordinate of the detected color\n",
    "time.sleep(0.5)\n",
    "Board.setPWMServoPulse(1, 1800, 500) # The gripper opens \n",
    "time.sleep(0.5)\n",
    "AK.setPitchRangeMoving((coordinate[detect_color][0], coordinate[detect_color][1], 8), -90, -90, 0, 800) #  Move to above the coordinates of the corresponding color\n",
    "time.sleep(0.8)\n",
    "Board.setPWMServosPulse([1200, 4, 1,1500, 3,515, 4,2170, 5,945]) # reset the robotic arm\n",
    "time.sleep(1.2)\n",
    "if detect_color == 'red':\n",
    "    Board.setPWMServoPulse(6, 1500, 500)\n",
    "    time.sleep(0.5)\n",
    "elif detect_color == 'green':\n",
    "    Board.setPWMServoPulse(6, 1500, 800)\n",
    "    time.sleep(0.8)\n",
    "elif detect_color == 'blue':\n",
    "    Board.setPWMServoPulse(6, 1500, 1500)\n",
    "    time.sleep(1.5)\n",
    "AK.setPitchRangeMoving((0, 8, 10), -90, -90, 0, 1000)\n",
    "time.sleep(1)\n",
    "                \n"
   ]
  },
  {
   "cell_type": "code",
   "execution_count": null,
   "id": "57e896b8-116e-40c2-afd1-657a43f37b2d",
   "metadata": {},
   "outputs": [],
   "source": []
  }
 ],
 "metadata": {
  "kernelspec": {
   "display_name": "Python 3 (ipykernel)",
   "language": "python",
   "name": "python3"
  },
  "language_info": {
   "codemirror_mode": {
    "name": "ipython",
    "version": 3
   },
   "file_extension": ".py",
   "mimetype": "text/x-python",
   "name": "python",
   "nbconvert_exporter": "python",
   "pygments_lexer": "ipython3",
   "version": "3.11.2"
  }
 },
 "nbformat": 4,
 "nbformat_minor": 5
}
