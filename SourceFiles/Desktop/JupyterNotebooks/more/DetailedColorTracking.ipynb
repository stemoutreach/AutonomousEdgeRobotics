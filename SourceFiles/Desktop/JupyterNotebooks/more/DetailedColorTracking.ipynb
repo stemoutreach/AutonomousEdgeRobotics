{
 "cells": [
  {
   "cell_type": "markdown",
   "id": "a18a1932-ee81-4fc8-a963-bf1464966666",
   "metadata": {},
   "source": [
    "# Import Libraries and Define Constants\n",
    "\n",
    "This cell imports the necessary libraries and defines some constants that will be used throughout the program."
   ]
  },
  {
   "cell_type": "code",
   "execution_count": null,
   "id": "4cf19817-920e-471b-8dcd-c82901ce9457",
   "metadata": {},
   "outputs": [],
   "source": [
    "import cv2\n",
    "import time\n",
    "import numpy as np\n",
    "from matplotlib import pyplot as plt\n",
    "from IPython.display import display, clear_output\n",
    "import ipywidgets as widgets\n",
    "import threading\n",
    "\n",
    "print(cv2.__version__)\n",
    "\n",
    "# Display dimensions\n",
    "dispW = 640  # Lowered display width for better performance\n",
    "dispH = 480  # Lowered display height for better performance\n",
    "\n",
    "# Font settings for FPS display\n",
    "tPosition = (30, 60)  # Position of the FPS text on the frame\n",
    "tFont = cv2.FONT_HERSHEY_SIMPLEX  # Font type for the FPS text\n",
    "tHeight = 1.5  # Font height for the FPS text\n",
    "tThick = 3  # Font thickness for the FPS text\n",
    "tColor = (0, 0, 255)  # Font color for the FPS text in BGR format\n",
    "\n",
    "# Initial HSV values\n",
    "hueLow, hueHigh = 17, 52\n",
    "satLow, satHigh = 111, 255\n",
    "valLow, valHigh = 164, 255\n",
    "track = 0\n",
    "\n",
    "# Boolean flag to stop the main loop\n",
    "stop = False\n"
   ]
  },
  {
   "cell_type": "markdown",
   "id": "7c6beef3-1e1f-4e3e-9e87-67f6d876c870",
   "metadata": {},
   "source": [
    "# Initialize Camera and Sliders\n",
    "This cell initializes the camera and creates the sliders that will be used to adjust the HSV values and the tracking mode."
   ]
  },
  {
   "cell_type": "code",
   "execution_count": null,
   "id": "bcbec780-56c1-46cc-9112-387b80a290aa",
   "metadata": {},
   "outputs": [],
   "source": [
    "# Initialize the USB camera (usually the first camera is at 0)\n",
    "cap = cv2.VideoCapture(0)\n",
    "if not cap.isOpened():\n",
    "    print(\"Cannot open camera\")\n",
    "    exit()\n",
    "\n",
    "# Create sliders for adjusting HSV values and tracking mode\n",
    "hue_low_slider = widgets.IntSlider(min=0, max=179, value=hueLow, description='Hue Low')\n",
    "hue_high_slider = widgets.IntSlider(min=0, max=179, value=hueHigh, description='Hue High')\n",
    "sat_low_slider = widgets.IntSlider(min=0, max=255, value=satLow, description='Sat Low')\n",
    "sat_high_slider = widgets.IntSlider(min=0, max=255, value=satHigh, description='Sat High')\n",
    "val_low_slider = widgets.IntSlider(min=0, max=255, value=valLow, description='Val Low')\n",
    "val_high_slider = widgets.IntSlider(min=0, max=255, value=valHigh, description='Val High')\n",
    "track_slider = widgets.IntSlider(min=0, max=1, value=track, description='Track')\n",
    "stop_button = widgets.Button(description=\"Stop\")\n"
   ]
  },
  {
   "cell_type": "markdown",
   "id": "f33b9370-b70b-4533-b07a-c24e4b59730d",
   "metadata": {},
   "source": [
    "# Define Callback Functions and Display Widgets\n",
    "This cell defines the callback functions for the sliders and the stop button, and displays the widgets."
   ]
  },
  {
   "cell_type": "code",
   "execution_count": null,
   "id": "34ad7258-2188-467b-93cf-2ea217877672",
   "metadata": {},
   "outputs": [],
   "source": [
    "def on_change(change):\n",
    "    global hueLow, hueHigh, satLow, satHigh, valLow, valHigh, track\n",
    "    hueLow = hue_low_slider.value\n",
    "    hueHigh = hue_high_slider.value\n",
    "    satLow = sat_low_slider.value\n",
    "    satHigh = sat_high_slider.value\n",
    "    valLow = val_low_slider.value\n",
    "    valHigh = val_high_slider.value\n",
    "    track = track_slider.value\n",
    "\n",
    "def on_button_click(b):\n",
    "    global stop\n",
    "    stop = True\n",
    "\n",
    "hue_low_slider.observe(on_change, names='value')\n",
    "hue_high_slider.observe(on_change, names='value')\n",
    "sat_low_slider.observe(on_change, names='value')\n",
    "sat_high_slider.observe(on_change, names='value')\n",
    "val_low_slider.observe(on_change, names='value')\n",
    "val_high_slider.observe(on_change, names='value')\n",
    "track_slider.observe(on_change, names='value')\n",
    "stop_button.on_click(on_button_click)\n",
    "\n",
    "display(hue_low_slider, hue_high_slider, sat_low_slider, sat_high_slider, val_low_slider, val_high_slider, track_slider, stop_button)\n"
   ]
  },
  {
   "cell_type": "markdown",
   "id": "185b2292-6024-400e-ad13-5429253c67b5",
   "metadata": {},
   "source": [
    "# Define Display Function\n",
    "This cell defines a function to display the camera feed, mask, and object images using matplotlib"
   ]
  },
  {
   "cell_type": "code",
   "execution_count": null,
   "id": "456cd89e-475b-4f91-9d9e-a4baecf28717",
   "metadata": {},
   "outputs": [],
   "source": [
    "def display_frame(frame, mask, obj):\n",
    "    plt.figure(figsize=(15, 5))\n",
    "    \n",
    "    plt.subplot(1, 3, 1)\n",
    "    plt.title('Camera')\n",
    "    plt.imshow(cv2.cvtColor(frame, cv2.COLOR_BGR2RGB))\n",
    "    plt.axis('off')\n",
    "    \n",
    "    plt.subplot(1, 3, 2)\n",
    "    plt.title('Mask')\n",
    "    plt.imshow(mask, cmap='gray')\n",
    "    plt.axis('off')\n",
    "    \n",
    "    plt.subplot(1, 3, 3)\n",
    "    plt.title('My Object')\n",
    "    plt.imshow(cv2.cvtColor(obj, cv2.COLOR_BGR2RGB))\n",
    "    plt.axis('off')\n",
    "    \n",
    "    clear_output(wait=True)\n",
    "    display(plt.gcf())\n",
    "    plt.close()\n"
   ]
  },
  {
   "cell_type": "markdown",
   "id": "9c3e2523-9e93-461f-937a-3a7243c0f305",
   "metadata": {},
   "source": [
    "# Stop Button Thread\n",
    "Creates a separate thread to monitor the stop button."
   ]
  },
  {
   "cell_type": "code",
   "execution_count": null,
   "id": "b3119c61-ff00-447c-abc2-8a46b09cd08b",
   "metadata": {},
   "outputs": [],
   "source": [
    "def monitor_stop_button():\n",
    "    global stop\n",
    "    while not stop:\n",
    "        time.sleep(0.01)\n",
    "\n",
    "# Start the stop button monitoring thread\n",
    "stop_thread = threading.Thread(target=monitor_stop_button)\n",
    "stop_thread.start()\n"
   ]
  },
  {
   "cell_type": "markdown",
   "id": "700d2794-01ee-41ed-ba42-1bee000b9381",
   "metadata": {},
   "source": [
    "# Main Loop\n",
    "This cell contains the main loop that captures frames from the camera, processes them, and displays them."
   ]
  },
  {
   "cell_type": "code",
   "execution_count": null,
   "id": "395ba392-1b1b-4991-8804-e9997abc48d5",
   "metadata": {},
   "outputs": [],
   "source": [
    "# Initialize FPS and frame count variables\n",
    "fps = 0\n",
    "frame_count = 0\n",
    "display_frequency = 5  # Display every 5 frames to improve performance\n",
    "\n",
    "# Main loop\n",
    "while not stop:\n",
    "    tStart = time.time()\n",
    "    \n",
    "    # Capture frame-by-frame\n",
    "    ret, frame = cap.read()\n",
    "    \n",
    "    # If frame is read correctly, ret is True\n",
    "    if not ret:\n",
    "        print(\"Can't receive frame (stream end?). Exiting ...\")\n",
    "        break\n",
    "    \n",
    "    # Resize frame to lower resolution for better performance\n",
    "    frame = cv2.resize(frame, (dispW, dispH))\n",
    "    \n",
    "    # Flip the frame vertically\n",
    "    frame = cv2.flip(frame, 1)  # Flip around y-axis (horizontal flip)\n",
    "    \n",
    "    # Convert frame to HSV color space\n",
    "    frameHSV = cv2.cvtColor(frame, cv2.COLOR_BGR2HSV)\n",
    "    \n",
    "    # Put FPS text on the frame\n",
    "    #cv2.putText(frame, str(int(fps)) + ' FPS', tPosition, tFont, tHeight, tColor, tThick)\n",
    "    \n",
    "    # Define HSV color range and create a mask\n",
    "    lowerBound = np.array([hueLow, satLow, valLow])\n",
    "    upperBound = np.array([hueHigh, satHigh, valHigh])\n",
    "    myMask = cv2.inRange(frameHSV, lowerBound, upperBound)\n",
    "    myMaskSmall = cv2.resize(myMask, (int(dispW/2), int(dispH/2)))\n",
    "    \n",
    "    # Apply mask to the frame to extract the object\n",
    "    myObject = cv2.bitwise_and(frame, frame, mask=myMask)\n",
    "    myObjectSmall = cv2.resize(myObject, (int(dispW/2), int(dispH/2)))\n",
    "    \n",
    "    # Find contours in the mask\n",
    "    contours, junk = cv2.findContours(myMask, cv2.RETR_EXTERNAL, cv2.CHAIN_APPROX_SIMPLE)\n",
    "    if len(contours) > 0:\n",
    "        # Sort contours by area and draw the largest one\n",
    "        contours = sorted(contours, key=lambda x: cv2.contourArea(x), reverse=True)\n",
    "        contour = contours[0]\n",
    "        x, y, w, h = cv2.boundingRect(contour)\n",
    "        cv2.rectangle(frame, (x, y), (x + w, y + h), (0, 0, 255), 3)\n",
    "    \n",
    "    # Display the resulting frames using matplotlib every `display_frequency` frames\n",
    "    frame_count += 1\n",
    "    if frame_count % display_frequency == 0:\n",
    "        display_frame(frame, myMaskSmall, myObjectSmall)\n",
    "    \n",
    "    # Calculate FPS\n",
    "    tEnd = time.time()\n",
    "    loopTime = tEnd - tStart\n",
    "    fps = 0.9 * fps + 0.1 * (1 / loopTime)\n",
    "\n",
    "# Release the capture and destroy windows\n",
    "cap.release()\n",
    "cv2.destroyAllWindows()\n",
    "\n",
    "# Ensure the stop thread ends\n",
    "stop_thread.join()\n"
   ]
  },
  {
   "cell_type": "code",
   "execution_count": null,
   "id": "9b4701cb-edd1-4ad4-9c05-258c5cb22d45",
   "metadata": {},
   "outputs": [],
   "source": []
  }
 ],
 "metadata": {
  "kernelspec": {
   "display_name": "Python 3 (ipykernel)",
   "language": "python",
   "name": "python3"
  },
  "language_info": {
   "codemirror_mode": {
    "name": "ipython",
    "version": 3
   },
   "file_extension": ".py",
   "mimetype": "text/x-python",
   "name": "python",
   "nbconvert_exporter": "python",
   "pygments_lexer": "ipython3",
   "version": "3.11.2"
  }
 },
 "nbformat": 4,
 "nbformat_minor": 5
}
