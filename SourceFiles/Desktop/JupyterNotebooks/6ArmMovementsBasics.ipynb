{
 "cells": [
  {
   "cell_type": "code",
   "execution_count": null,
   "id": "e4ec365c-564f-423a-9de2-9a33ffa53538",
   "metadata": {},
   "outputs": [],
   "source": [
    "import sys\n",
    "sys.path.append('/home/pi/MasterPi')\n",
    "import time\n",
    "import HiwonderSDK.Board as Board"
   ]
  },
  {
   "cell_type": "markdown",
   "id": "fb134f46-e81c-4b1e-872d-f68df675756b",
   "metadata": {},
   "source": [
    "Position range 500 to 2500\n",
    "\n",
    "\n",
    "Board.setPWMServoPulse(ServoID, Position, TimetoPosition)"
   ]
  },
  {
   "cell_type": "code",
   "execution_count": null,
   "id": "2c127e89-086e-4dec-8392-41aaa2c0f250",
   "metadata": {},
   "outputs": [],
   "source": [
    "Board.setPWMServoPulse(1, 1500, 1000)\n",
    "Board.setPWMServoPulse(3, 695, 1000)\n",
    "Board.setPWMServoPulse(4, 2413, 1000)\n",
    "Board.setPWMServoPulse(5, 782, 1000)\n",
    "Board.setPWMServoPulse(6, 1500, 1000)\n",
    "time.sleep(3)"
   ]
  },
  {
   "cell_type": "code",
   "execution_count": null,
   "id": "e8e64723-f701-41a5-90fa-0e06accb14be",
   "metadata": {},
   "outputs": [],
   "source": [
    "Board.setPWMServoPulse(1, 1500, 1000)\n",
    "Board.setPWMServoPulse(3, 1500, 1000)\n",
    "Board.setPWMServoPulse(4, 1500, 1000)\n",
    "Board.setPWMServoPulse(5, 1500, 1000)\n",
    "Board.setPWMServoPulse(6, 1500, 1000)\n",
    "time.sleep(3)"
   ]
  }
 ],
 "metadata": {
  "kernelspec": {
   "display_name": "Python 3 (ipykernel)",
   "language": "python",
   "name": "python3"
  },
  "language_info": {
   "codemirror_mode": {
    "name": "ipython",
    "version": 3
   },
   "file_extension": ".py",
   "mimetype": "text/x-python",
   "name": "python",
   "nbconvert_exporter": "python",
   "pygments_lexer": "ipython3",
   "version": "3.11.2"
  }
 },
 "nbformat": 4,
 "nbformat_minor": 5
}
