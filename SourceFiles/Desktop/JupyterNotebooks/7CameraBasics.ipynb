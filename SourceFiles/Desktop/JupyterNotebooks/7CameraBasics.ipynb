{
 "cells": [
  {
   "cell_type": "code",
   "execution_count": null,
   "id": "4e87df5f-29a6-40b5-8054-542d23ddb6a0",
   "metadata": {},
   "outputs": [],
   "source": [
    "from IPython.display import display, clear_output\n",
    "from PIL import Image, ImageDraw\n",
    "import cv2\n",
    "import numpy as np\n",
    "import time"
   ]
  },
  {
   "cell_type": "code",
   "execution_count": null,
   "id": "02ee0caa-95e7-490a-8c6a-f96e9f08933a",
   "metadata": {},
   "outputs": [],
   "source": [
    "# Initialize the USB camera\n",
    "cap = cv2.VideoCapture(0)\n",
    "cap.set(cv2.CAP_PROP_FRAME_WIDTH, 1280)\n",
    "cap.set(cv2.CAP_PROP_FRAME_HEIGHT, 720)"
   ]
  },
  {
   "cell_type": "code",
   "execution_count": null,
   "id": "34875936-846b-44b9-9da3-ecbaeaf09e8d",
   "metadata": {},
   "outputs": [],
   "source": [
    "for i in range(30):\n",
    "    ret, frame = cap.read()  # Capture frame-by-frame\n",
    "    if ret:\n",
    "        # Convert the captured frame to RGB\n",
    "        frame = cv2.cvtColor(frame, cv2.COLOR_BGR2RGB)\n",
    "        pil_im = Image.fromarray(frame)\n",
    "        \n",
    "        # Display the frame\n",
    "        clear_output(wait=True)\n",
    "        display(pil_im)\n",
    "    else:    \n",
    "        print(\"Failed to capture image\")"
   ]
  },
  {
   "cell_type": "code",
   "execution_count": null,
   "id": "c0d55c25-c7f1-474d-8d72-f1b922dc477a",
   "metadata": {},
   "outputs": [],
   "source": [
    "cap.release()  # Release the capture"
   ]
  }
 ],
 "metadata": {
  "kernelspec": {
   "display_name": "Python 3 (ipykernel)",
   "language": "python",
   "name": "python3"
  },
  "language_info": {
   "codemirror_mode": {
    "name": "ipython",
    "version": 3
   },
   "file_extension": ".py",
   "mimetype": "text/x-python",
   "name": "python",
   "nbconvert_exporter": "python",
   "pygments_lexer": "ipython3",
   "version": "3.11.2"
  }
 },
 "nbformat": 4,
 "nbformat_minor": 5
}
