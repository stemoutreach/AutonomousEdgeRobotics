{
 "cells": [
  {
   "cell_type": "code",
   "execution_count": null,
   "id": "56dc04f6-f5cf-46f8-a733-d8238fc7c047",
   "metadata": {},
   "outputs": [],
   "source": [
    "import os\n",
    "import sys\n",
    "sys.path.append('/home/pi/MasterPi/')\n",
    "import time\n",
    "import HiwonderSDK.Board as Board\n",
    "import HiwonderSDK.Sonar as Sonar\n",
    "from smbus2 import SMBus, i2c_msg"
   ]
  },
  {
   "cell_type": "code",
   "execution_count": null,
   "id": "917ded04-a320-4851-909d-1c81945408d8",
   "metadata": {},
   "outputs": [],
   "source": [
    "ultrasonic = Sonar.Sonar()\n",
    "ultrasonic.setRGBMode(0)\n",
    "ultrasonic.setPixelColor(0, Board.PixelColor(0, 0, 0))\n",
    "ultrasonic.setPixelColor(1, Board.PixelColor(0, 0, 0))\n",
    "ultrasonic.show()\n",
    "time.sleep(0.1)\n",
    "ultrasonic.setPixelColor(0, Board.PixelColor(255, 0, 0))\n",
    "ultrasonic.setPixelColor(1, Board.PixelColor(255, 0, 0))\n",
    "ultrasonic.show()\n",
    "time.sleep(1)\n",
    "ultrasonic.setPixelColor(0, Board.PixelColor(0, 255, 0))\n",
    "ultrasonic.setPixelColor(1, Board.PixelColor(0, 255, 0))\n",
    "ultrasonic.show()\n",
    "time.sleep(1)\n",
    "ultrasonic.setPixelColor(0, Board.PixelColor(0, 0, 255))\n",
    "ultrasonic.setPixelColor(1, Board.PixelColor(0, 0, 255))\n",
    "ultrasonic.show()\n",
    "time.sleep(1)\n",
    "ultrasonic.setPixelColor(0, Board.PixelColor(0, 0, 0))\n",
    "ultrasonic.setPixelColor(1, Board.PixelColor(0, 0, 0))\n",
    "ultrasonic.show()\n",
    "time.sleep(0.1)"
   ]
  },
  {
   "cell_type": "code",
   "execution_count": null,
   "id": "cbe542eb-6e86-42ed-9f4c-0b772963bfae",
   "metadata": {},
   "outputs": [],
   "source": [
    "while (ultrasonic.getDistance() > 75 ):\n",
    "    time.sleep(1)\n",
    "    print(ultrasonic.getDistance())\n",
    "\n",
    "ultrasonic.startSymphony()"
   ]
  },
  {
   "cell_type": "code",
   "execution_count": null,
   "id": "e237d80b-16a5-45cc-a66a-82f48720377c",
   "metadata": {},
   "outputs": [],
   "source": [
    "ultrasonic.setRGBMode(0)"
   ]
  }
 ],
 "metadata": {
  "kernelspec": {
   "display_name": "Python 3 (ipykernel)",
   "language": "python",
   "name": "python3"
  },
  "language_info": {
   "codemirror_mode": {
    "name": "ipython",
    "version": 3
   },
   "file_extension": ".py",
   "mimetype": "text/x-python",
   "name": "python",
   "nbconvert_exporter": "python",
   "pygments_lexer": "ipython3",
   "version": "3.11.2"
  }
 },
 "nbformat": 4,
 "nbformat_minor": 5
}
